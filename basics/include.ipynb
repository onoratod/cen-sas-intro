{
 "cells": [
  {
   "cell_type": "markdown",
   "metadata": {},
   "source": [
    "# Including External Code\n",
    "\n",
    "A usefule SAS functionality that we use in many of our programs is the `%include` statement. Generally, we include the `leap_macros.sas` program containing a TON of SAS macro programs written over the years (from back when the group was called LEAP, hence the name). This works very similar to the `include` statement in Stata.\n",
    "\n",
    "```sas\n",
    "%include \"/XX/leap_macros.sas\";\n",
    "```"
   ]
  },
  {
   "cell_type": "code",
   "execution_count": null,
   "metadata": {},
   "outputs": [],
   "source": []
  }
 ],
 "metadata": {
  "kernelspec": {
   "display_name": "Python 3",
   "language": "python",
   "name": "python3"
  },
  "language_info": {
   "codemirror_mode": {
    "name": "ipython",
    "version": 3
   },
   "file_extension": ".py",
   "mimetype": "text/x-python",
   "name": "python",
   "nbconvert_exporter": "python",
   "pygments_lexer": "ipython3",
   "version": "3.6.5"
  }
 },
 "nbformat": 4,
 "nbformat_minor": 2
}

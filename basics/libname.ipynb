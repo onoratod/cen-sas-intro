{
 "cells": [
  {
   "cell_type": "markdown",
   "metadata": {},
   "source": [
    "# The LIBNAME Statement\n",
    "\n",
    "SAS requires that you specify the directories where SAS datasets should be saved and accessed from as LIBRARIES before you can use these directories. Every program you write will have at least one declared library. These should be listed at the top of you code beneath the `OPTIONS` statement. These are similar to filepath globals you might store at the top of your Stata `.do` files. \n",
    "\n",
    "Each `LIBNAME` statement assigns a short (1-8 characters) name to a directory, after which SAS datasets are accessed as `libname.file_name` in procedure and `DATA` steps. Libraries are **only** used for accessing data in SAS format (i.e. `.sas7bdat`).\n",
    "\n",
    "```sas\n",
    "libname databank \"XX/databank/dropoff\";\n",
    "libname dump \"XX/intergen/dump\";\n",
    "libname out \"XX/intergen/micro\";\n",
    "```"
   ]
  },
  {
   "cell_type": "code",
   "execution_count": null,
   "metadata": {},
   "outputs": [],
   "source": []
  }
 ],
 "metadata": {
  "kernelspec": {
   "display_name": "Python 3",
   "language": "python",
   "name": "python3"
  },
  "language_info": {
   "codemirror_mode": {
    "name": "ipython",
    "version": 3
   },
   "file_extension": ".py",
   "mimetype": "text/x-python",
   "name": "python",
   "nbconvert_exporter": "python",
   "pygments_lexer": "ipython3",
   "version": "3.6.5"
  }
 },
 "nbformat": 4,
 "nbformat_minor": 2
}

{
 "cells": [
  {
   "cell_type": "markdown",
   "metadata": {},
   "source": [
    "# SAS Procedures\n",
    "\n",
    "SAS has many pre-packaged PROCEDURES for completing various statistical analyses and database management or manipulation tasks. Generally, these PROCEDURES perform computations or tasks that would be burdensome or practically impossible in a traditional `DATA` step. Every data-manipulating step other than a `DATA` step in a SAS program is a `PROCEDURE`, shortened to `PROC` in SAS lingo. In this section, we go over a few of our most commonly used SAS PROCEDURES. \n",
    "\n",
    "All SAS PROCEDURES are terminated with a `quit;` as opposed to the `run;` used in `DATA` steps."
   ]
  },
  {
   "cell_type": "code",
   "execution_count": null,
   "metadata": {},
   "outputs": [],
   "source": []
  },
  {
   "cell_type": "code",
   "execution_count": null,
   "metadata": {},
   "outputs": [],
   "source": []
  }
 ],
 "metadata": {
  "kernelspec": {
   "display_name": "Python 3",
   "language": "python",
   "name": "python3"
  },
  "language_info": {
   "codemirror_mode": {
    "name": "ipython",
    "version": 3
   },
   "file_extension": ".py",
   "mimetype": "text/x-python",
   "name": "python",
   "nbconvert_exporter": "python",
   "pygments_lexer": "ipython3",
   "version": "3.6.5"
  }
 },
 "nbformat": 4,
 "nbformat_minor": 2
}

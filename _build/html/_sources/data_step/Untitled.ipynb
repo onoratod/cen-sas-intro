{
 "cells": [
  {
   "cell_type": "code",
   "execution_count": null,
   "metadata": {},
   "outputs": [],
   "source": [
    "### Exercise \n",
    "\n",
    "If you're up for it, test your knowledge of control flow in SAS to write a `%macro` that takes a `start_year`, an `end_year`, and a macro name and calls the specified macro for each year in between `start_year` and `end_year`. \n",
    "\n",
    "````{admonition} Solution\n",
    ":class: dropdown, tip\n",
    "\n",
    "``` sas\n",
    "    %macro exercise(start_year, end_year, name);\n",
    "        \n",
    "        %do year = &start_year to &end_year;\n",
    "            %&name.(&year.);\n",
    "        %end;\n",
    "        \n",
    "    %mend exercise;\n",
    "```\n",
    "\n",
    "````\n",
    "\n"
   ]
  },
  {
   "cell_type": "markdown",
   "metadata": {},
   "source": [
    "Let's discuss the helper functions we use in this code block. The first new function here is `%scan(list, i, delim)` which returns the ith item in the specified list that is delimited by `delim` (specifying the delimiter is optional). We use this in line `5` \n",
    "\n",
    "```{code-block} sas\n",
    "---\n",
    "lineno-start: 5\n",
    "emphasize-lines: 5\n",
    "---\n",
    "    %do %while (%scan(&list, &i) ~= );\n",
    "```\n",
    "\n",
    "We use `%scan` to parse through the elements of the list we are trying to loop over. We use this with a `DO-WHILE` loop to continue scanning elements from our list until the element we scan is empty i.e. we reached the end of the list. We use `%scan` again in line `7` to retrieve the ith element in our list. \n",
    "\n",
    "Another new function we use is `%length(x)` which returns the length of `x`. We use this in line `10`\n",
    "\n",
    "```{code-block} sas\n",
    "---\n",
    "lineno-start: 9\n",
    "emphasize-lines: 10\n",
    "---\n",
    "        * Print to log;\n",
    "        %if %length(&value) ~= 0 %then %put &value;\n",
    "```\n",
    "\n",
    "Here we use `%length` to check that the element we retrieved from our list is not empty i.e. has non-zero length. This is overkill since we already checked in line `5` that the element is not empty. \n",
    "\n",
    "The last new function we use here is `%eval()` which allows us to evaluate expressions in open code. We use this in line `13`\n",
    "\n",
    "```{code-block} sas\n",
    "---\n",
    "lineno-start: 12\n",
    "emphasize-lines: 13\n",
    "---\n",
    "        *Increment counter;\n",
    "        %let i = %eval(&i + 1);\n",
    "```\n",
    "\n",
    "We use `eval` to increment our counter. Recall that in a previous section we used `%sysfunc` combined with `sum` to increment our counter. "
   ]
  }
 ],
 "metadata": {
  "kernelspec": {
   "display_name": "Python 3",
   "language": "python",
   "name": "python3"
  },
  "language_info": {
   "codemirror_mode": {
    "name": "ipython",
    "version": 3
   },
   "file_extension": ".py",
   "mimetype": "text/x-python",
   "name": "python",
   "nbconvert_exporter": "python",
   "pygments_lexer": "ipython3",
   "version": "3.6.5"
  }
 },
 "nbformat": 4,
 "nbformat_minor": 4
}

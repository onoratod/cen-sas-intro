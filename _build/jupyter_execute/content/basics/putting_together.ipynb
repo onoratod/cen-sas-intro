{
 "cells": [
  {
   "cell_type": "markdown",
   "metadata": {},
   "source": [
    "# Putting It All Together\n",
    "\n",
    "Adding together the components we discussed in this section, here is an example of a SAS program header. It's helpful to add a comment at the very top with a quick description (at the very least) of what the file does. \n",
    "\n",
    "```sas\n",
    "/***\n",
    "intergen_start.sas\n",
    "Build intergenerational data\n",
    "Created By: Census Predoc #1 (2017-02-02)\n",
    "***/\n",
    "\n",
    "options debug='CONNECT=00200000' mlogic mprint replace errorabend obs=max threads cpucount=actual;\n",
    "\n",
    "* Filepaths;\n",
    "libname databank \"/XX/databank/dropoff\";\n",
    "libname dump \"/XX/intergen/dump\";\n",
    "libname out \"/XX/intergen/micro\";\n",
    "\n",
    "* Useful SAS macros;\n",
    "%include \"/XX/leap_macros.sas\";\n",
    "\n",
    "/*---------------------------------------------------------------\n",
    "Useful macros\n",
    "---------------------------------------------------------------*/\n",
    "\n",
    "%let fcohort = 1978;\n",
    "%let lcohort = 1991;\n",
    "\n",
    "*CPI factors; \n",
    "%include \"/XX/intergen/code/modules/cpi.sas\";\n",
    "```"
   ]
  },
  {
   "cell_type": "code",
   "execution_count": null,
   "metadata": {},
   "outputs": [],
   "source": []
  }
 ],
 "metadata": {
  "kernelspec": {
   "display_name": "Python 3",
   "language": "python",
   "name": "python3"
  },
  "language_info": {
   "codemirror_mode": {
    "name": "ipython",
    "version": 3
   },
   "file_extension": ".py",
   "mimetype": "text/x-python",
   "name": "python",
   "nbconvert_exporter": "python",
   "pygments_lexer": "ipython3",
   "version": "3.6.5"
  }
 },
 "nbformat": 4,
 "nbformat_minor": 2
}
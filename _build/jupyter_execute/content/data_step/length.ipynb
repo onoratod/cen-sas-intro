{
 "cells": [
  {
   "cell_type": "markdown",
   "metadata": {},
   "source": [
    "# Setting Variable Lengths\n",
    "\n",
    "In SAS, variables have different lengths. Numeric variables have lengths between 3 and 8 (depending on the size of the number). A character variables length is equivelent to the length of the string (i.e. `\"Philadelphia\"` would have length 12). SAS automatically sets the length of numeric and character variables to 8. This can sometimes be wasteful and we can save space by carefully setting the lengths of our variables. However, we need to be careful not to set the lengths too short so that we lose information. The SAS guide also warns against shortening variables with fraction values which may result in a loss of precision. You can find a chart of variable lengths and their corresponding numeric ranges [here](https://documentation.sas.com/?docsetId=hostunx&docsetTarget=p12zsdbylnn6c2n1i48z7djr6uzo.htm&docsetVersion=9.4&locale=en). \n",
    "\n",
    "You can set the length of a variable with a `LENGTH` statement in the `DATA` step. For numeric variables\n",
    "\n",
    "```sas\n",
    "data out.outfile;\n",
    "    set in.infile;\n",
    "    \n",
    "    length married 3;\n",
    "    \n",
    "    married = 1;\n",
    "    \n",
    "run;\n",
    "```\n",
    "\n",
    "For character variables the length is preceded by `$`\n",
    "\n",
    "```sas\n",
    "data out.outfile;\n",
    "    set in.infile;\n",
    "    \n",
    "    length tract $6;\n",
    "    \n",
    "    tract = \"123456\";\n",
    "    \n",
    "run;\n",
    "```\n",
    "\n",
    "You can set the lengths for a list of variables by listing the variable names and then listing the length. This sets the length of `wages`, `income`, and `dividends` to 8\n",
    "\n",
    "```sas\n",
    "data out.outfile;\n",
    "    set in.infile;\n",
    "    \n",
    "    length wages income dividends 8 tract $6;\n",
    "run;\n",
    "```\n"
   ]
  },
  {
   "cell_type": "code",
   "execution_count": null,
   "metadata": {},
   "outputs": [],
   "source": []
  }
 ],
 "metadata": {
  "kernelspec": {
   "display_name": "Python 3",
   "language": "python",
   "name": "python3"
  },
  "language_info": {
   "codemirror_mode": {
    "name": "ipython",
    "version": 3
   },
   "file_extension": ".py",
   "mimetype": "text/x-python",
   "name": "python",
   "nbconvert_exporter": "python",
   "pygments_lexer": "ipython3",
   "version": "3.6.5"
  }
 },
 "nbformat": 4,
 "nbformat_minor": 4
}
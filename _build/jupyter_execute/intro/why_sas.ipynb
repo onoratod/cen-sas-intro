{
 "cells": [
  {
   "cell_type": "markdown",
   "metadata": {
    "tags": [
     "epigraph"
    ]
   },
   "source": [
    "# Why SAS?\n",
    "\n",
    "Writing code in SAS can be frustrating. It is likely not the type of statistical programming language you are accustomed to using. Programs like Stata and R store data in random access memory (RAM) — SAS operates on a single row of data at a time. This is what makes SAS useful for working with large datasets — you do not have to read the full file into memory. \n",
    "\n",
    "In Stata, you can use other parts of the data to inform \"row-level\" operations. For example, if you have a variable $x$ and you want to generate \n",
    "\n",
    "$$\n",
    "z = x − \\overline{x}\n",
    "$$ \n",
    "\n",
    "you can use the `egen` function to attach $\\overline{x}$ as a wide variable or simply summarize $x$ and difference out the mean using the stored macro. Conversely, SAS cannot compute the sample mean, $\\overline{x}$, in a standard `DATA` step operation (more on this later) because it only has a single line of the data held in memory. A simple way to think about SAS is as a for-loop executing commands on each row of the data:\n",
    "\n",
    "```stata\n",
    "forval i = 1/_N {\n",
    "    replace x = x + 1 if _n == `i'\n",
    "}\n",
    "```\n",
    "\n",
    "The SAS programmer is required to write linear and purposeful code because of this \"row-by-row functionality.\" This forces you to think through every operation you are asking SAS to perform. That is why SAS is like spinach. \n",
    "\n",
    ">It might not taste good, but “SAS is good for you” - Angrist."
   ]
  },
  {
   "cell_type": "code",
   "execution_count": null,
   "metadata": {},
   "outputs": [],
   "source": []
  }
 ],
 "metadata": {
  "kernelspec": {
   "display_name": "Python 3",
   "language": "python",
   "name": "python3"
  },
  "language_info": {
   "codemirror_mode": {
    "name": "ipython",
    "version": 3
   },
   "file_extension": ".py",
   "mimetype": "text/x-python",
   "name": "python",
   "nbconvert_exporter": "python",
   "pygments_lexer": "ipython3",
   "version": "3.6.5"
  }
 },
 "nbformat": 4,
 "nbformat_minor": 2
}
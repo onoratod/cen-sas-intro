{
 "cells": [
  {
   "cell_type": "markdown",
   "metadata": {},
   "source": [
    "# Semicolons and Comments\n",
    "\n",
    "## Semicolons\n",
    "\n",
    "SAS uses `;` to delimit the end of a line of code (this is similar to Java and C languages). This means you need to include a `;` at the end of every line of code. This also means lines of code can span several lines (unlike Stata which requires a line break character `///`).\n",
    "\n",
    "## Comments\n",
    "\n",
    "SAS has two ways to create comments. You can start a comment with `*` and end it with `;` \n",
    "\n",
    "``` sas \n",
    "* This is a comment;\n",
    "x = 10;\n",
    "```\n",
    "\n",
    "You can also create block comments with `/* */` \n",
    "\n",
    "``` sas\n",
    "/* This is a \n",
    "   block comment */\n",
    "x = 10;\n",
    "```"
   ]
  },
  {
   "cell_type": "code",
   "execution_count": null,
   "metadata": {},
   "outputs": [],
   "source": []
  }
 ],
 "metadata": {
  "kernelspec": {
   "display_name": "Python 3",
   "language": "python",
   "name": "python3"
  },
  "language_info": {
   "codemirror_mode": {
    "name": "ipython",
    "version": 3
   },
   "file_extension": ".py",
   "mimetype": "text/x-python",
   "name": "python",
   "nbconvert_exporter": "python",
   "pygments_lexer": "ipython3",
   "version": "3.6.5"
  }
 },
 "nbformat": 4,
 "nbformat_minor": 2
}
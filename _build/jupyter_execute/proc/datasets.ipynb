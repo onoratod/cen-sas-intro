{
 "cells": [
  {
   "cell_type": "markdown",
   "metadata": {},
   "source": [
    "# Deleting Data\n",
    "\n",
    "Since SAS operates on a row-by-row basis, we often have to make several intermediate datasets in the process of creating a clean dataset for analysis. To keep our project space clean we want to delete these files at the end of our scripts. To do this, we make use of the `DELETE` statement of `PROC DATASETS`. \n",
    "\n",
    "## Deleting Files with PROC DATASETS\n",
    "\n",
    "The general syntax to delete a file or list of files is\n",
    "\n",
    "```sas \n",
    "proc datasets lib = (noprint);\n",
    "    delete /* list files here */;\n",
    "quit;\n",
    "run;\n",
    "```\n",
    "\n",
    "`lib` specifies the library where the files are located. `noprint` (optional) supresses printing to the log. After the `delete` we specify the files we want to delete. Here is an example to delete the files `clean_data_pre` and `clean_data_merge` located in the `out` library\n",
    "\n",
    "```sas\n",
    "proc datasets lib = out;\n",
    "    delete clean_data_pre clean_data_merge;\n",
    "quit;\n",
    "run;\n",
    "```\n",
    "\n",
    "We can also make use of the SAS wildcard character `:` to delete many files with a common prefix\n",
    "    \n",
    "````{margin}\n",
    "```{note}\n",
    "The wildcard character `:` only works for objects with a common prefix. So `pre_:` works but `pre_:_suffix` will not work.\n",
    "```\n",
    "````\n",
    "\n",
    "```sas\n",
    "proc datasets lib = out;\n",
    "    delete clean_data_:;\n",
    "quit;\n",
    "run;\n",
    "```\n",
    "\n",
    "## Deleting All Files in a Library with KILL\n",
    "\n",
    "Often times we use certain folders in our project space to store intermediate files that are byproducts of the build process (sometimes called `dump`). These folders can be filled with many files during a build process and it can be annoying to list them all out in the `DELETE` statement. In SAS we can delete all the files in a library using the `KILL` option to `PROC DATASETS`. For instance, to delete all the files in the library `out` we would write\n",
    "\n",
    "```sas\n",
    "proc datasets lib = out kill;\n",
    "quit;\n",
    "run;\n",
    "```\n",
    "\n",
    "We recommend using this sparingly to avoid accidently deleting important files. "
   ]
  },
  {
   "cell_type": "code",
   "execution_count": null,
   "metadata": {},
   "outputs": [],
   "source": []
  }
 ],
 "metadata": {
  "kernelspec": {
   "display_name": "Python 3",
   "language": "python",
   "name": "python3"
  },
  "language_info": {
   "codemirror_mode": {
    "name": "ipython",
    "version": 3
   },
   "file_extension": ".py",
   "mimetype": "text/x-python",
   "name": "python",
   "nbconvert_exporter": "python",
   "pygments_lexer": "ipython3",
   "version": "3.6.5"
  }
 },
 "nbformat": 4,
 "nbformat_minor": 2
}
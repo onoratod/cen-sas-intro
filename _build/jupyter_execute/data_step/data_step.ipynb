{
 "cells": [
  {
   "cell_type": "markdown",
   "metadata": {},
   "source": [
    "# The DATA Step\n",
    "\n",
    "Unlike STATA, SAS programs are organized in steps. When you run a Stata program, a dataset is loaded into memory (RAM) and the data remains in memory between statements. In SAS, data is not retained in memory between steps -- each step loads data from disk, transforms the state of the data, and re-writes the file to disk. \n",
    "\n",
    "The most basic SAS step (and one of the ones you will use the most) is the `DATA` step -- `DATA` steps are the building blocks of all SAS programs. SAS is especially useful when manipulating large datasets in `DATA` steps because it never loads an entire dataset into RAM. Instead, SAS loads a single row of data at a time into RAM, looping over all rows in the dataset serially to complete the set of commands you provide. In general, `DATA` steps are designed to read in an input file `SET` by the user and output a transformed file. Once a line is read into RAM, variables are created, deleted, and manipulated, and the resulting row is saved to the bottom of the new file. It is essential to understand how SAS data steps are executed to interpret how seemingly identical sets of SAS statements can produce drastically different results. \n",
    "\n",
    "You can read more about `DATA` steps [here](https://documentation.sas.com/?docsetId=basess&S)."
   ]
  },
  {
   "cell_type": "code",
   "execution_count": null,
   "metadata": {},
   "outputs": [],
   "source": []
  },
  {
   "cell_type": "markdown",
   "metadata": {},
   "source": [
    "\n",
    "```{toctree}\n",
    ":hidden:\n",
    ":titlesonly:\n",
    "\n",
    "\n",
    "structure.ipynb\n",
    "example.ipynb\n",
    "options.ipynb\n",
    "length.ipynb\n",
    "```\n"
   ]
  }
 ],
 "metadata": {
  "kernelspec": {
   "display_name": "Python 3",
   "language": "python",
   "name": "python3"
  },
  "language_info": {
   "codemirror_mode": {
    "name": "ipython",
    "version": 3
   },
   "file_extension": ".py",
   "mimetype": "text/x-python",
   "name": "python",
   "nbconvert_exporter": "python",
   "pygments_lexer": "ipython3",
   "version": "3.6.5"
  }
 },
 "nbformat": 4,
 "nbformat_minor": 2
}